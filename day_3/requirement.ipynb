{
 "cells": [
  {
   "cell_type": "code",
   "execution_count": 1,
   "metadata": {},
   "outputs": [
    {
     "name": "stdout",
     "output_type": "stream",
     "text": [
      "Collecting flask-wtf\n",
      "  Downloading flask_wtf-1.2.1-py3-none-any.whl.metadata (3.4 kB)\n",
      "Requirement already satisfied: flask in c:\\users\\swapnil.joshi\\appdata\\local\\programs\\python\\python312\\lib\\site-packages (from flask-wtf) (3.0.3)\n",
      "Requirement already satisfied: itsdangerous in c:\\users\\swapnil.joshi\\appdata\\local\\programs\\python\\python312\\lib\\site-packages (from flask-wtf) (2.2.0)\n",
      "Collecting wtforms (from flask-wtf)\n",
      "  Downloading wtforms-3.1.2-py3-none-any.whl.metadata (5.3 kB)\n",
      "Requirement already satisfied: Werkzeug>=3.0.0 in c:\\users\\swapnil.joshi\\appdata\\local\\programs\\python\\python312\\lib\\site-packages (from flask->flask-wtf) (3.0.3)\n",
      "Requirement already satisfied: Jinja2>=3.1.2 in c:\\users\\swapnil.joshi\\appdata\\local\\programs\\python\\python312\\lib\\site-packages (from flask->flask-wtf) (3.1.4)\n",
      "Requirement already satisfied: click>=8.1.3 in c:\\users\\swapnil.joshi\\appdata\\local\\programs\\python\\python312\\lib\\site-packages (from flask->flask-wtf) (8.1.7)\n",
      "Requirement already satisfied: blinker>=1.6.2 in c:\\users\\swapnil.joshi\\appdata\\local\\programs\\python\\python312\\lib\\site-packages (from flask->flask-wtf) (1.8.2)\n",
      "Requirement already satisfied: markupsafe in c:\\users\\swapnil.joshi\\appdata\\local\\programs\\python\\python312\\lib\\site-packages (from wtforms->flask-wtf) (2.1.5)\n",
      "Requirement already satisfied: colorama in c:\\users\\swapnil.joshi\\appdata\\roaming\\python\\python312\\site-packages (from click>=8.1.3->flask->flask-wtf) (0.4.6)\n",
      "Downloading flask_wtf-1.2.1-py3-none-any.whl (12 kB)\n",
      "Downloading wtforms-3.1.2-py3-none-any.whl (145 kB)\n",
      "   ---------------------------------------- 0.0/146.0 kB ? eta -:--:--\n",
      "   ---------------------------------------- 146.0/146.0 kB 4.4 MB/s eta 0:00:00\n",
      "Installing collected packages: wtforms, flask-wtf\n",
      "Successfully installed flask-wtf-1.2.1 wtforms-3.1.2\n",
      "Note: you may need to restart the kernel to use updated packages.\n"
     ]
    }
   ],
   "source": [
    "pip install flask-wtf"
   ]
  },
  {
   "cell_type": "code",
   "execution_count": 2,
   "metadata": {},
   "outputs": [
    {
     "name": "stdout",
     "output_type": "stream",
     "text": [
      "Collecting email-validator\n",
      "  Downloading email_validator-2.1.1-py3-none-any.whl.metadata (26 kB)\n",
      "Collecting dnspython>=2.0.0 (from email-validator)\n",
      "  Downloading dnspython-2.6.1-py3-none-any.whl.metadata (5.8 kB)\n",
      "Collecting idna>=2.0.0 (from email-validator)\n",
      "  Downloading idna-3.7-py3-none-any.whl.metadata (9.9 kB)\n",
      "Downloading email_validator-2.1.1-py3-none-any.whl (30 kB)\n",
      "Downloading dnspython-2.6.1-py3-none-any.whl (307 kB)\n",
      "   ---------------------------------------- 0.0/307.7 kB ? eta -:--:--\n",
      "   ------- -------------------------------- 61.4/307.7 kB 3.4 MB/s eta 0:00:01\n",
      "   ---------- ---------------------------- 81.9/307.7 kB 919.0 kB/s eta 0:00:01\n",
      "   --------------- ---------------------- 122.9/307.7 kB 901.1 kB/s eta 0:00:01\n",
      "   --------------------- ---------------- 174.1/307.7 kB 958.1 kB/s eta 0:00:01\n",
      "   ------------------------- ------------ 204.8/307.7 kB 958.4 kB/s eta 0:00:01\n",
      "   ------------------------------- ------ 256.0/307.7 kB 927.4 kB/s eta 0:00:01\n",
      "   -------------------------------------  307.2/307.7 kB 951.8 kB/s eta 0:00:01\n",
      "   -------------------------------------- 307.7/307.7 kB 867.2 kB/s eta 0:00:00\n",
      "Downloading idna-3.7-py3-none-any.whl (66 kB)\n",
      "   ---------------------------------------- 0.0/66.8 kB ? eta -:--:--\n",
      "   ------------------------------------ --- 61.4/66.8 kB 3.4 MB/s eta 0:00:01\n",
      "   ---------------------------------------- 66.8/66.8 kB 1.8 MB/s eta 0:00:00\n",
      "Installing collected packages: idna, dnspython, email-validator\n",
      "Successfully installed dnspython-2.6.1 email-validator-2.1.1 idna-3.7\n",
      "Note: you may need to restart the kernel to use updated packages.\n"
     ]
    },
    {
     "name": "stderr",
     "output_type": "stream",
     "text": [
      "  WARNING: The script email_validator.exe is installed in 'c:\\Users\\swapnil.joshi\\AppData\\Local\\Programs\\Python\\Python312\\Scripts' which is not on PATH.\n",
      "  Consider adding this directory to PATH or, if you prefer to suppress this warning, use --no-warn-script-location.\n"
     ]
    }
   ],
   "source": [
    "pip install email-validator"
   ]
  },
  {
   "cell_type": "code",
   "execution_count": null,
   "metadata": {},
   "outputs": [],
   "source": []
  }
 ],
 "metadata": {
  "kernelspec": {
   "display_name": "Python 3",
   "language": "python",
   "name": "python3"
  },
  "language_info": {
   "codemirror_mode": {
    "name": "ipython",
    "version": 3
   },
   "file_extension": ".py",
   "mimetype": "text/x-python",
   "name": "python",
   "nbconvert_exporter": "python",
   "pygments_lexer": "ipython3",
   "version": "3.12.3"
  }
 },
 "nbformat": 4,
 "nbformat_minor": 2
}
